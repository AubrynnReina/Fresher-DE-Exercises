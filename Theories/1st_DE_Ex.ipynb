{
 "cells": [
  {
   "cell_type": "markdown",
   "metadata": {},
   "source": [
    "## Content\n",
    "- Online and Offline extraction\n",
    "- ETL and ELT\n",
    "- Virtual Environment, Container and Virtual Machine"
   ]
  },
  {
   "cell_type": "markdown",
   "metadata": {},
   "source": [
    "## Online and Offline extraction\n",
    "- Logical: software-based\n",
    "    - Full: completely extract from source\n",
    "    - Incremental: record and extract changes\n",
    "- Physical: hardware-based\n",
    "    - Online: directly extract from source\n",
    "    - Offline: indirectly extract from a stage (outside the source)."
   ]
  },
  {
   "cell_type": "markdown",
   "metadata": {},
   "source": [
    "## ETL and ELT\n",
    "\n",
    "| Category | ETL | ELT |\n",
    "| --- | --- | --- |\n",
    "| *Transform* | Raw data is transformed on a processing server | Raw data is transformed inside the target system |\n",
    "| *Speed* | time-intensive process; data is transformed before loading into a destination system | faster by comparison; data is loaded directly into a destination system, and transformed in-parallel |\n",
    "| *Maintenance and Cost* | More systems can burden more | Simplified data stack costs less |\n",
    "| *Raw Data Querying* | No | Yes |\n",
    "| *Data Volume* | Ideal for small data sets with complicated transformation requirements | Ideal for large datasets that require speed & efficiency |"
   ]
  },
  {
   "cell_type": "markdown",
   "metadata": {},
   "source": [
    "## Virtual Environment, Container and Virtual Machine\n",
    "\n",
    "Virtual Environment\n",
    "- Allows multiple versions of a dependency to coexist on the same machine.\n",
    "- Lightweight and consume less memory compared to virtual machines.\n",
    "- Ideal for development and testing environments, where multiple versions of a dependency need to be tested.\n",
    "\n",
    "Container\n",
    "- Lightweight, standalone, and executable package of software that includes everything needed to run a piece of software, including the code, a runtime, and libraries.\n",
    "- More efficient and lightweight than VMs because they do not require a separate OS for each container.\n",
    "- Shares the host machine's kernel and run as a process on the host machine.\n",
    "- Ideal for testing, development, deploying and managing applications in production environments, provides a consistent and reliable way to deploy software across different environments.\n",
    "\n",
    "Virtual Machine\n",
    "- Software-based simulation of a physical machine.\n",
    "- Isolated from the host machine and can run different operating systems and applications.\n",
    "- Useful for testing and development, but also for running applications that require a specific operating system or hardware configuration.\n",
    "- More resource-intensive than virtualenv and require more memory and processing power."
   ]
  }
 ],
 "metadata": {
  "language_info": {
   "name": "python"
  }
 },
 "nbformat": 4,
 "nbformat_minor": 2
}
