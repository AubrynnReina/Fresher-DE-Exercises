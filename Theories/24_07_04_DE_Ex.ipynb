{
 "cells": [
  {
   "cell_type": "markdown",
   "metadata": {},
   "source": [
    "# Research and compare between CTE, View, Temporary Table, Table Variable, Inline Table Valued Function"
   ]
  },
  {
   "cell_type": "markdown",
   "metadata": {},
   "source": [
    "- [Common Table Expression](#common-table-expression)\n",
    "- [View](#view)\n",
    "- [Temporary Table](#temporary-table)\n",
    "- [Table Variable](#table-variable)\n",
    "- [Table Valued Function](#table-valued-function)\n",
    "- [Comparision between CTE, View, Temporary Table, Table Variable](#comparision-between-cte-view-temporary-table-table-variable)"
   ]
  },
  {
   "cell_type": "markdown",
   "metadata": {},
   "source": [
    "## Common Table Expression"
   ]
  },
  {
   "cell_type": "markdown",
   "metadata": {
    "vscode": {
     "languageId": "plaintext"
    }
   },
   "source": [
    "- Created during query execution\n",
    "- Used by the query\n",
    "- Deleted after the query executes"
   ]
  },
  {
   "cell_type": "markdown",
   "metadata": {},
   "source": [
    "## View"
   ]
  },
  {
   "cell_type": "markdown",
   "metadata": {},
   "source": [
    "- From customized query that retrieves data from one or more tables\n",
    "- Represents the data as if it was coming from a single source"
   ]
  },
  {
   "cell_type": "markdown",
   "metadata": {},
   "source": [
    "## Temporary Table"
   ]
  },
  {
   "cell_type": "markdown",
   "metadata": {},
   "source": [
    "- Automatically deleted as soon as the connection is terminated\n",
    "- Useful when needing to store temporary data per session\n",
    "- There's global temp table, though"
   ]
  },
  {
   "cell_type": "markdown",
   "metadata": {},
   "source": [
    "## Table Variable"
   ]
  },
  {
   "cell_type": "markdown",
   "metadata": {},
   "source": [
    "- Usually compared with temp table\n",
    "- Get more overhead locking than temp table\n",
    "- Maintains consistency of data in the context of transactions"
   ]
  },
  {
   "cell_type": "markdown",
   "metadata": {
    "vscode": {
     "languageId": "plaintext"
    }
   },
   "source": [
    "# Table Valued Function"
   ]
  },
  {
   "cell_type": "markdown",
   "metadata": {},
   "source": [
    "- A function that returns a table\n",
    "- Basically a function, allowing parameters and such"
   ]
  },
  {
   "cell_type": "markdown",
   "metadata": {},
   "source": [
    "# Comparision between CTE, View, Temporary Table, Table Variable"
   ]
  },
  {
   "cell_type": "markdown",
   "metadata": {},
   "source": [
    "| Category | Common Table Expression | View | Temporary Table | Table Variable |\n",
    "| --- | --- | --- | --- | --- |\n",
    "| *Scope* | Current query | Within the database | Session or global (depending on the type) | Current batch or stored procedure |\n",
    "| *Performance* | Efficient for complex queries, especially with recursive logic | Efficient for reading on large datasets | Fast on large datasets and multiple operations | Fast on small datasets and simple operations |\n",
    "| *Features* | Improves readability and maintainability, can be reused within a query | Can be reused within a database usage | Supports indexes, constraints, and statistics | Cannot have indexes or SQL constraints, and no statistics are maintained |\n",
    "| *Use cases* | Hierarchical or recursive queries, improving code readability, complex logic within a single query | Reports on the status of large amount of data overtime | Large datasets, multiple operations, frequent use across queries | Small datasets, simple operations within a batch or procedure, passing data between procedures |"
   ]
  }
 ],
 "metadata": {
  "language_info": {
   "name": "python"
  }
 },
 "nbformat": 4,
 "nbformat_minor": 2
}
