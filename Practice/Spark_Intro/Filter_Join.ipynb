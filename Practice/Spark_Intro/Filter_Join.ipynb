{
 "cells": [
  {
   "cell_type": "code",
   "execution_count": 7,
   "metadata": {},
   "outputs": [],
   "source": [
    "import random\n",
    "random.seed(42)\n",
    "\n",
    "list_len = 1000000\n",
    "key_list = [random.randrange(0, 100, 1) for _ in range(list_len)]\n",
    "value_list = random.sample(range(list_len), list_len)\n",
    "\n",
    "with open('text_files/filter_join_test/data_1.txt', 'w') as f:\n",
    "    for i in range(len(key_list)):\n",
    "        f.write(f'({key_list[i]}, {value_list[i]})\\n')"
   ]
  },
  {
   "cell_type": "code",
   "execution_count": 8,
   "metadata": {},
   "outputs": [],
   "source": [
    "random.seed(1)\n",
    "\n",
    "list_len = 1000000\n",
    "key_list = [random.randrange(0, 100, 1) for _ in range(list_len)]\n",
    "value_list = random.sample(range(list_len), list_len)\n",
    "\n",
    "with open('text_files/filter_join_test/data_2.txt', 'w') as f:\n",
    "    for i in range(len(key_list)):\n",
    "        f.write(f'({key_list[i]}, {value_list[i]})\\n')"
   ]
  },
  {
   "cell_type": "code",
   "execution_count": 9,
   "metadata": {},
   "outputs": [],
   "source": [
    "def convert_to_tuple(str_data):\n",
    "    key, value = str_data[1:-1].split(', ')\n",
    "    return (key, int(value))"
   ]
  },
  {
   "cell_type": "code",
   "execution_count": 4,
   "metadata": {},
   "outputs": [],
   "source": [
    "import findspark\n",
    "findspark.init()\n",
    "\n",
    "from pyspark import SparkContext, SparkConf\n",
    "\n",
    "spark_conf = SparkConf().setMaster('local[*]').setAppName('Prime Number Detector')\n",
    "spark_context = SparkContext().getOrCreate(spark_conf)"
   ]
  },
  {
   "cell_type": "code",
   "execution_count": 13,
   "metadata": {},
   "outputs": [],
   "source": [
    "key_value_rdd_1 = spark_context.textFile('text_files/filter_join_test/data_1.txt').map(convert_to_tuple)\n",
    "key_value_rdd_2 = spark_context.textFile('text_files/filter_join_test/data_2.txt').map(convert_to_tuple)"
   ]
  },
  {
   "cell_type": "code",
   "execution_count": 14,
   "metadata": {},
   "outputs": [],
   "source": [
    "result_rdd_1 = key_value_rdd_1.join(key_value_rdd_2).filter(lambda x: int(x[0]) >= 20)"
   ]
  },
  {
   "cell_type": "code",
   "execution_count": 12,
   "metadata": {},
   "outputs": [
    {
     "data": {
      "text/plain": [
       "1000000"
      ]
     },
     "execution_count": 12,
     "metadata": {},
     "output_type": "execute_result"
    }
   ],
   "source": [
    "key_value_rdd_1.count()"
   ]
  },
  {
   "cell_type": "code",
   "execution_count": 15,
   "metadata": {},
   "outputs": [
    {
     "data": {
      "text/plain": [
       "[('86', (930155, 141260)),\n",
       " ('86', (930155, 408692)),\n",
       " ('86', (930155, 376357)),\n",
       " ('86', (930155, 222970)),\n",
       " ('86', (930155, 659947)),\n",
       " ('86', (930155, 423066)),\n",
       " ('86', (930155, 535730)),\n",
       " ('86', (930155, 268934)),\n",
       " ('86', (930155, 877082)),\n",
       " ('86', (930155, 458889))]"
      ]
     },
     "execution_count": 15,
     "metadata": {},
     "output_type": "execute_result"
    }
   ],
   "source": [
    "result_rdd_1.take(10)"
   ]
  },
  {
   "cell_type": "code",
   "execution_count": 16,
   "metadata": {},
   "outputs": [],
   "source": [
    "result_rdd_1.count()"
   ]
  },
  {
   "cell_type": "code",
   "execution_count": null,
   "metadata": {},
   "outputs": [],
   "source": [
    "result_rdd_2 = key_value_rdd_1.filter(lambda x: x[0] >= 20) \\\n",
    "                              .join(key_value_rdd_2) \\\n",
    "                              .collect()"
   ]
  },
  {
   "cell_type": "code",
   "execution_count": 7,
   "metadata": {},
   "outputs": [],
   "source": [
    "spark_context.stop()\n"
   ]
  },
  {
   "cell_type": "code",
   "execution_count": null,
   "metadata": {},
   "outputs": [],
   "source": []
  }
 ],
 "metadata": {
  "kernelspec": {
   "display_name": "spark_course",
   "language": "python",
   "name": "python3"
  },
  "language_info": {
   "codemirror_mode": {
    "name": "ipython",
    "version": 3
   },
   "file_extension": ".py",
   "mimetype": "text/x-python",
   "name": "python",
   "nbconvert_exporter": "python",
   "pygments_lexer": "ipython3",
   "version": "3.9.19"
  }
 },
 "nbformat": 4,
 "nbformat_minor": 2
}
