{
 "cells": [
  {
   "cell_type": "markdown",
   "metadata": {},
   "source": [
    "# Memory Management in Spark"
   ]
  },
  {
   "cell_type": "markdown",
   "metadata": {},
   "source": [
    "Spark memory management is divided into two types:\n",
    "\n",
    "- Static Memory Manager (*Deprecated* since Spark 1.6).\n",
    "- Unified Memory Manager (*default*)."
   ]
  },
  {
   "cell_type": "markdown",
   "metadata": {},
   "source": [
    "## Unified Memory Manager (UMM)"
   ]
  },
  {
   "cell_type": "markdown",
   "metadata": {},
   "source": [
    "### Architecture"
   ]
  },
  {
   "cell_type": "markdown",
   "metadata": {},
   "source": [
    "![image.png](./images/Cd_Unified_Memory_Manager_5GB.jpg)\n",
    "\n",
    "[Source](https://community.cloudera.com/t5/Community-Articles/Spark-Memory-Management/ta-p/317794)"
   ]
  },
  {
   "cell_type": "markdown",
   "metadata": {},
   "source": [
    "Advantages of UMM:\n",
    "- The boundary between storage memory and execution memory is not static, and in cases of memory pressure, the boundary would be moved, i.e., one region would grow by borrowing space from another one.\n",
    "- When the application has no cache and is propagating, execution uses all the memory to avoid unnecessary disk overflow.\n",
    "- When the application has a cache, it will reserve the minimum storage memory so that the data block is not affected."
   ]
  },
  {
   "cell_type": "markdown",
   "metadata": {},
   "source": [
    "JVM has two types of memory:\n",
    "\n",
    "- On-Heap Memory.\n",
    "- Off-Heap Memory.\n",
    "\n",
    "There is one more segment of memory that is accessed by Spark, i.e., external process memory, mainly used for PySpark and SparkR applications, resides outside the JVM."
   ]
  },
  {
   "cell_type": "markdown",
   "metadata": {},
   "source": [
    "### On-Heap Memory (*default*)"
   ]
  },
  {
   "cell_type": "markdown",
   "metadata": {},
   "source": [
    "The size of the on-heap memory is configured by the --executor-memory or spark.executor.memory parameter when the Spark application starts."
   ]
  },
  {
   "cell_type": "markdown",
   "metadata": {},
   "source": [
    "Two main configurations control executor memory allocation:\n",
    "\n",
    "| Parameter | Description |\n",
    "| -- | -- |\n",
    "|spark.memory.fraction (default 0.6) | Fraction of the heap space used for execution and storage. The lower this is, the more frequently spills and cached data evictions occur. The purpose of this configuration is to set aside memory for internal metadata, user data structures, and imprecise size estimation in the case of sparse, unusually large records. |\n",
    "|spark.memory.storageFraction (default 0.5) | The size of the storage region within the space set aside by spark.memory.fraction. Cached data may only be evicted if total storage exceeds this region. |"
   ]
  },
  {
   "cell_type": "markdown",
   "metadata": {},
   "source": [
    "Apache Spark supports three memory regions:\n",
    "\n",
    "- Reserved Memory (**hard-coded** 300MB):\n",
    "    - Reserved for the system and is used to store Spark's internal objects.\n",
    "    - If executor memory is less than 1.5 times the reserved memory (450MB), Spark will raise an error.\n",
    "\n",
    "    ![image.png](./images/low_exe_memory_error.png)"
   ]
  },
  {
   "cell_type": "markdown",
   "metadata": {},
   "source": [
    "- User Memory: *(Java Heap — Reserved Memory) * (1.0 — spark.memory.fraction)*\n",
    "    - Used to store user-defined data structures, Spark internal metadata, any UDFs created by the user, and the data needed for RDD conversion operations, such as RDD dependency information, etc.\n",
    "    - Is 40% of (Java Heap - Reserved Memory) by default."
   ]
  },
  {
   "cell_type": "markdown",
   "metadata": {},
   "source": [
    "- Spark Memory: *(Java Heap — Reserved Memory) * spark.memory.fraction*\n",
    "    - Execution: used for shuffles, joins, sorts, and aggregations.\n",
    "    - Storage: used to cache partitions of data.\n",
    "    - Is 60% of (Java Heap - Reserved Memory) by default."
   ]
  },
  {
   "cell_type": "markdown",
   "metadata": {},
   "source": []
  }
 ],
 "metadata": {
  "language_info": {
   "name": "python"
  }
 },
 "nbformat": 4,
 "nbformat_minor": 2
}
