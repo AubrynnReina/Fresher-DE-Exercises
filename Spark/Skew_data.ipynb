{
 "cells": [
  {
   "cell_type": "markdown",
   "metadata": {},
   "source": [
    "# Skew data in Spark"
   ]
  },
  {
   "cell_type": "markdown",
   "metadata": {},
   "source": [
    "## Issues with skew data in processing"
   ]
  },
  {
   "cell_type": "markdown",
   "metadata": {},
   "source": [
    "- Imbalanced workload: some partitions may have significantly more data than others, lead to some tasks taking much longer to complete, which can slow down the entire job.\n",
    "- Out of memory errors: skewed data can cause out of memory errors, can be particularly problematic if the data is being cached in memory for iterative processing.\n",
    "- Uneven resource usage: a partition may consume a disproportionate amount of resources (such as CPU or memory), leading to inefficient resource utilization.\n",
    "- Slow processing times: Skewed data can cause slower processing times, particularly for operations like joins and aggregations, which require shuffling and data movement between partitions.\n",
    "- Job failures: skewed partitions cause out-of-memory errors or lead to long-running tasks that exceed the maximum allotted time."
   ]
  },
  {
   "cell_type": "markdown",
   "metadata": {},
   "source": [
    "## How to handle skew data?"
   ]
  },
  {
   "cell_type": "markdown",
   "metadata": {},
   "source": [
    "- Salting: add a random prefix to the key of each record to distribute the data uniformly across the partitions.\n",
    "- Bucketing: partition data based on the values of a key into a fixed number of buckets.\n",
    "- Broadcast join:\n",
    "    - For join operations.\n",
    "    - Broadcast the small table to all the partitions of the large table, reducing the amount of data that needs to be shuffled.\n",
    "\n",
    "        &rarr; Reduce the impact of skew data.\n",
    "- Co-partitioning: partition two tables using the same partitioning scheme to ensure that the data is distributed uniformly across the partitions"
   ]
  },
  {
   "cell_type": "markdown",
   "metadata": {},
   "source": []
  }
 ],
 "metadata": {
  "language_info": {
   "name": "python"
  }
 },
 "nbformat": 4,
 "nbformat_minor": 2
}
